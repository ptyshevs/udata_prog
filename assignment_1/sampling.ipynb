{
 "cells": [
  {
   "cell_type": "code",
   "execution_count": 25,
   "metadata": {},
   "outputs": [],
   "source": [
    "import random as rd\n",
    "import math"
   ]
  },
  {
   "cell_type": "code",
   "execution_count": 26,
   "metadata": {},
   "outputs": [],
   "source": [
    "import matplotlib.pyplot as plt\n",
    "import seaborn as sns\n",
    "import numpy as np\n",
    "import time  # for default seed using time.clock()"
   ]
  },
  {
   "cell_type": "code",
   "execution_count": 4,
   "metadata": {},
   "outputs": [],
   "source": [
    "def rand(seed=None):\n",
    "    \"\"\"\n",
    "    Generate pseudo-random number in range [0, 1) (Uniformally-distributed)\n",
    "    X_n+1 = (aX_n + c) % m\n",
    "    \"\"\"\n",
    "    if not hasattr(rand, 'x'):\n",
    "        rand.x = time.clock() if seed is None else seed\n",
    "        rand.a = 15_485_863\n",
    "        rand.c = 373_587_883\n",
    "        rand.m = 573_268_139\n",
    "    rand.x = ((rand.a * rand.x + rand.c) % rand.m) \n",
    "    return rand.x / rand.m"
   ]
  },
  {
   "cell_type": "code",
   "execution_count": 4,
   "metadata": {},
   "outputs": [],
   "source": [
    "%load_ext Cython"
   ]
  },
  {
   "cell_type": "code",
   "execution_count": 5,
   "metadata": {},
   "outputs": [],
   "source": [
    "%%cython\n",
    "from libc.time cimport clock\n",
    "cimport cython\n",
    "\n",
    "cdef:\n",
    "    double x_n = 0.0;\n",
    "    double a = 15485863;\n",
    "    double c = 373587883;\n",
    "    double m = 573268139;\n",
    "\n",
    "cpdef double rand_fast(double seed=0.0):\n",
    "    global x_n, a, b, c;\n",
    "    if x_n == 0.0 and seed == 0.0:\n",
    "        x_n = <double>clock();\n",
    "    x_n = (a * x_n + c) % m;\n",
    "    return x_n / m;"
   ]
  },
  {
   "cell_type": "code",
   "execution_count": 158,
   "metadata": {},
   "outputs": [],
   "source": [
    "data = [rand_fast() for _ in range(100_000_00)]"
   ]
  },
  {
   "cell_type": "code",
   "execution_count": 157,
   "metadata": {},
   "outputs": [
    {
     "name": "stdout",
     "output_type": "stream",
     "text": [
      "8.04 ms ± 206 µs per loop (mean ± std. dev. of 7 runs, 100 loops each)\n"
     ]
    }
   ],
   "source": [
    "%%timeit\n",
    "data = [rand() for _ in range(10_000)]"
   ]
  },
  {
   "cell_type": "code",
   "execution_count": 151,
   "metadata": {},
   "outputs": [
    {
     "name": "stdout",
     "output_type": "stream",
     "text": [
      "1.51 ms ± 22.9 µs per loop (mean ± std. dev. of 7 runs, 1000 loops each)\n"
     ]
    }
   ],
   "source": [
    "%%timeit\n",
    "data = [rand_fast() for _ in range(10_000)]"
   ]
  },
  {
   "cell_type": "code",
   "execution_count": 160,
   "metadata": {},
   "outputs": [
    {
     "data": {
      "text/plain": [
       "<matplotlib.axes._subplots.AxesSubplot at 0x123d46128>"
      ]
     },
     "execution_count": 160,
     "metadata": {},
     "output_type": "execute_result"
    },
    {
     "data": {
      "image/png": "[encoded data removed]",
      "text/plain": [
       "<Figure size 432x288 with 1 Axes>"
      ]
     },
     "metadata": {
      "needs_background": "light"
     },
     "output_type": "display_data"
    }
   ],
   "source": [
    "sns.distplot(np.array(data), bins=300);"
   ]
  },
  {
   "cell_type": "code",
   "execution_count": 7,
   "metadata": {},
   "outputs": [],
   "source": [
    "def gauss(mu: float=0, sigma: float=1) -> float:\n",
    "    \"\"\"\n",
    "    Generate sample ~ N(μ, σ^2)\n",
    "    \"\"\"\n",
    "    if hasattr(gauss, 'z1'):\n",
    "        z1 = gauss.z1\n",
    "        del gauss.z1\n",
    "        return z1 * sigma + mu\n",
    "    u1, u2 = rand_fast(), rand_fast()\n",
    "    z0 = math.sqrt(-2 * math.log(u1)) * math.cos(2 * math.pi * u2)\n",
    "    gauss.z1 = math.sqrt(-2 * math.log(u1)) * math.sin(2 * math.pi * u2)\n",
    "    # X = Z * σ + μ\n",
    "    return z0 * sigma + mu"
   ]
  },
  {
   "cell_type": "code",
   "execution_count": 33,
   "metadata": {},
   "outputs": [
    {
     "name": "stdout",
     "output_type": "stream",
     "text": [
      "14.9 ms ± 90 µs per loop (mean ± std. dev. of 7 runs, 100 loops each)\n"
     ]
    }
   ],
   "source": [
    "%%timeit\n",
    "data = [gauss() for _ in range(10000)]"
   ]
  },
  {
   "cell_type": "code",
   "execution_count": 144,
   "metadata": {},
   "outputs": [
    {
     "name": "stdout",
     "output_type": "stream",
     "text": [
      "12.3 ms ± 186 µs per loop (mean ± std. dev. of 7 runs, 100 loops each)\n"
     ]
    }
   ],
   "source": [
    "%%timeit\n",
    "data = [gauss() for _ in range(10000)]  # with my rand_fast()"
   ]
  },
  {
   "cell_type": "code",
   "execution_count": 145,
   "metadata": {},
   "outputs": [],
   "source": [
    "data = [gauss() for _ in range(10_000_00)]"
   ]
  },
  {
   "cell_type": "code",
   "execution_count": 147,
   "metadata": {},
   "outputs": [
    {
     "data": {
      "image/png": "[encoded data removed]",
      "text/plain": [
       "<Figure size 432x288 with 1 Axes>"
      ]
     },
     "metadata": {
      "needs_background": "light"
     },
     "output_type": "display_data"
    }
   ],
   "source": [
    "sns.distplot(np.array(data), bins=300);"
   ]
  },
  {
   "cell_type": "code",
   "execution_count": 8,
   "metadata": {},
   "outputs": [
    {
     "name": "stderr",
     "output_type": "stream",
     "text": [
      "UsageError: Cell magic `%%cython` not found.\n"
     ]
    }
   ],
   "source": [
    "%%cython\n",
    "from libc.math cimport sqrt, log, sin, cos, M_PI\n",
    "from libc.stdlib cimport rand\n",
    "cimport cython\n",
    "\n",
    "cdef extern from \"limits.h\":\n",
    "    double RAND_MAX\n",
    "\n",
    "cdef double two_pi = M_PI * 2;\n",
    "cdef double z1_cache[1];\n",
    "\n",
    "@cython.cdivision(True)\n",
    "@cython.boundscheck(False)\n",
    "@cython.nonecheck(False)\n",
    "@cython.wraparound(False)\n",
    "cpdef double gauss_fast(double mu=0, double sigma=1):\n",
    "    global z1_cache\n",
    "    cdef:\n",
    "        double u1, u2, z0, r, k;\n",
    "    \n",
    "    if z1_cache[0] != 0:\n",
    "        z1 = z1_cache[0];\n",
    "        z1_cache[0] = 0.0;\n",
    "        return z1;\n",
    "    u1 = (<float>rand()) / RAND_MAX;\n",
    "    u2 = (<float>rand()) / RAND_MAX;\n",
    "    r = sqrt(-2 * log(u1));\n",
    "    k = two_pi * u2;\n",
    "    z0 = r * cos(k);\n",
    "    z1_cache[0] = r * sin(k);    \n",
    "    # X = Z * σ + μ\n",
    "    return z0 * sigma + mu\n"
   ]
  },
  {
   "cell_type": "code",
   "execution_count": 12,
   "metadata": {},
   "outputs": [
    {
     "name": "stdout",
     "output_type": "stream",
     "text": [
      "1.12 ms ± 19.9 µs per loop (mean ± std. dev. of 7 runs, 1000 loops each)\n"
     ]
    }
   ],
   "source": [
    "%%timeit\n",
    "data = [gauss_fast() for _ in range(10_000)]"
   ]
  },
  {
   "cell_type": "code",
   "execution_count": 84,
   "metadata": {},
   "outputs": [
    {
     "name": "stdout",
     "output_type": "stream",
     "text": [
      "6.93 ms ± 335 µs per loop (mean ± std. dev. of 7 runs, 100 loops each)\n"
     ]
    }
   ],
   "source": [
    "%%timeit\n",
    "data = [rd.gauss(0, 1) for _ in range(10_000)]"
   ]
  },
  {
   "cell_type": "code",
   "execution_count": 17,
   "metadata": {},
   "outputs": [],
   "source": [
    "data = [gauss_fast() for _ in range(10_000_000)]"
   ]
  },
  {
   "cell_type": "code",
   "execution_count": 18,
   "metadata": {},
   "outputs": [
    {
     "data": {
      "image/png": "[encoded data removed]",
      "text/plain": [
       "<Figure size 432x288 with 1 Axes>"
      ]
     },
     "metadata": {
      "needs_background": "light"
     },
     "output_type": "display_data"
    }
   ],
   "source": [
    "sns.distplot(np.array(data), bins=300);"
   ]
  },
  {
   "cell_type": "code",
   "execution_count": 161,
   "metadata": {},
   "outputs": [],
   "source": [
    "a = np.array([[1, 2], [3, 4]])"
   ]
  },
  {
   "cell_type": "code",
   "execution_count": 162,
   "metadata": {},
   "outputs": [],
   "source": [
    "vfunc = np.vectorize(lambda x: 1)"
   ]
  },
  {
   "cell_type": "code",
   "execution_count": 179,
   "metadata": {},
   "outputs": [],
   "source": [
    "def arr_gauss(mu=0, sigma=1, size=1):\n",
    "    return gauss_fast() if size == 1 else np.fromiter((gauss_fast(mu, sigma) for _ in range(size)), dtype=np.float64)"
   ]
  },
  {
   "cell_type": "code",
   "execution_count": 178,
   "metadata": {},
   "outputs": [
    {
     "name": "stdout",
     "output_type": "stream",
     "text": [
      "17.4 ms ± 1.01 ms per loop (mean ± std. dev. of 7 runs, 100 loops each)\n"
     ]
    }
   ],
   "source": [
    "%%timeit\n",
    "arr_gauss(size=10_000_0)"
   ]
  },
  {
   "cell_type": "code",
   "execution_count": 17,
   "metadata": {},
   "outputs": [],
   "source": [
    "def uniform(low=0.0, high=1.0, size=None):\n",
    "    n_samples = 1\n",
    "    if size is not None:\n",
    "        for i in size:\n",
    "            n_samples *= i\n",
    "    scale = high - low\n",
    "    return [low + scale * rand() for _ in range(n_samples)]"
   ]
  },
  {
   "cell_type": "code",
   "execution_count": 19,
   "metadata": {},
   "outputs": [
    {
     "data": {
      "text/plain": [
       "<matplotlib.axes._subplots.AxesSubplot at 0x12755ff60>"
      ]
     },
     "execution_count": 19,
     "metadata": {},
     "output_type": "execute_result"
    },
    {
     "data": {
      "image/png": "[encoded data removed]",
      "text/plain": [
       "<Figure size 432x288 with 1 Axes>"
      ]
     },
     "metadata": {
      "needs_background": "light"
     },
     "output_type": "display_data"
    }
   ],
   "source": [
    "data = uniform(20, 50, (100000,))\n",
    "sns.distplot(np.array(data), bins=300)"
   ]
  },
  {
   "cell_type": "code",
   "execution_count": 7,
   "metadata": {},
   "outputs": [],
   "source": [
    "# exponential\n",
    "def exponential(scale=1.0, size=None):\n",
    "    \"\"\"\n",
    "    Draw samples from an exponential distribution.\n",
    "    \n",
    "    @param scale: inverse of the rate parameter\n",
    "    @param size: if None, one sample is produced. Otherwise must be iterable.\n",
    "                 For example (n, k, m) will produce n * k * m samples\n",
    "    \"\"\"\n",
    "    n_samples = 1\n",
    "    if size is not None:\n",
    "        for i in size:\n",
    "            n_samples *= i\n",
    "    # Quantile function F^-1(p, λ) = -ln(1-p) / λ\n",
    "    return [scale * -math.log(rand()) for _ in range(n_samples)]"
   ]
  },
  {
   "cell_type": "code",
   "execution_count": 1,
   "metadata": {},
   "outputs": [],
   "source": [
    "%load_ext Cython"
   ]
  },
  {
   "cell_type": "code",
   "execution_count": 7,
   "metadata": {},
   "outputs": [],
   "source": [
    "%%cython\n",
    "from libc.math cimport sqrt, log, sin, cos, M_PI\n",
    "from __main__ import *\n",
    "from cpython cimport array\n",
    "import array\n",
    "cimport cython\n",
    "\n",
    "@cython.cdivision(True)\n",
    "@cython.boundscheck(False)\n",
    "@cython.nonecheck(False)\n",
    "@cython.wraparound(False)\n",
    "cpdef array.array exponential_fast(double scale=1.0, size=None):\n",
    "    cdef:\n",
    "        unsigned int n_samples, i;\n",
    "    n_samples = 1\n",
    "    if size is not None:\n",
    "        for i in size:\n",
    "            n_samples *= i\n",
    "    return array.array('d', [scale * -log(rand_fast()) for _ in range(n_samples)])"
   ]
  },
  {
   "cell_type": "code",
   "execution_count": 12,
   "metadata": {},
   "outputs": [
    {
     "name": "stdout",
     "output_type": "stream",
     "text": [
      "1.3 ms ± 6.23 µs per loop (mean ± std. dev. of 7 runs, 1000 loops each)\n"
     ]
    }
   ],
   "source": [
    "%%timeit\n",
    "data = exponential_fast(20, size=(10000,))"
   ]
  },
  {
   "cell_type": "code",
   "execution_count": 10,
   "metadata": {},
   "outputs": [
    {
     "name": "stdout",
     "output_type": "stream",
     "text": [
      "9.48 ms ± 126 µs per loop (mean ± std. dev. of 7 runs, 100 loops each)\n"
     ]
    }
   ],
   "source": [
    "%%timeit\n",
    "data = exponential(20, (10000,))"
   ]
  },
  {
   "cell_type": "code",
   "execution_count": 11,
   "metadata": {},
   "outputs": [
    {
     "data": {
      "text/plain": [
       "<matplotlib.axes._subplots.AxesSubplot at 0x124322a58>"
      ]
     },
     "execution_count": 11,
     "metadata": {},
     "output_type": "execute_result"
    },
    {
     "data": {
      "image/png": "[encoded data removed]",
      "text/plain": [
       "<Figure size 432x288 with 1 Axes>"
      ]
     },
     "metadata": {
      "needs_background": "light"
     },
     "output_type": "display_data"
    }
   ],
   "source": [
    "sns.distplot(np.array(data), bins=300)"
   ]
  },
  {
   "cell_type": "code",
   "execution_count": 9,
   "metadata": {},
   "outputs": [],
   "source": [
    "def beta(alpha=1.0, beta=1.0):\n",
    "    alpha = math.ceil(alpha)\n",
    "    beta = math.ceil(beta)\n",
    "    n_samples = alpha + beta - 1\n",
    "    samples = sorted([rand() for _ in range(n_samples)])\n",
    "    return samples[alpha - 1]"
   ]
  },
  {
   "cell_type": "code",
   "execution_count": 1,
   "metadata": {},
   "outputs": [],
   "source": [
    "%load_ext Cython"
   ]
  },
  {
   "cell_type": "code",
   "execution_count": 33,
   "metadata": {},
   "outputs": [],
   "source": [
    "%%cython\n",
    "from libc.math cimport ceil\n",
    "from __main__ import *\n",
    "\n",
    "cpdef double beta_fast(double alpha=1.0, double beta=1.0):\n",
    "    cdef:\n",
    "        unsigned int n_samples, a, b;\n",
    "    n_samples = <unsigned int>ceil(alpha + beta - 1)\n",
    "    if n_samples == 1:\n",
    "        return rand_fast()\n",
    "    else:\n",
    "        samples = sorted([rand_fast() for _ in range(n_samples)])\n",
    "        return samples[ceil(alpha) - 1]"
   ]
  },
  {
   "cell_type": "code",
   "execution_count": 14,
   "metadata": {},
   "outputs": [
    {
     "data": {
      "text/plain": [
       "<matplotlib.axes._subplots.AxesSubplot at 0x1259bd518>"
      ]
     },
     "execution_count": 14,
     "metadata": {},
     "output_type": "execute_result"
    },
    {
     "data": {
      "image/png": "[encoded data removed]",
      "text/plain": [
       "<Figure size 432x288 with 1 Axes>"
      ]
     },
     "metadata": {
      "needs_background": "light"
     },
     "output_type": "display_data"
    }
   ],
   "source": [
    "data = [beta(2, 2) for _ in range(1000000)]\n",
    "sns.distplot(np.array(data), bins=300)"
   ]
  },
  {
   "cell_type": "code",
   "execution_count": 15,
   "metadata": {},
   "outputs": [
    {
     "name": "stdout",
     "output_type": "stream",
     "text": [
      "31.4 ms ± 159 µs per loop (mean ± std. dev. of 7 runs, 10 loops each)\n"
     ]
    }
   ],
   "source": [
    "%%timeit\n",
    "data = [beta(2, 2) for _ in range(10000)]"
   ]
  },
  {
   "cell_type": "code",
   "execution_count": 21,
   "metadata": {},
   "outputs": [
    {
     "name": "stdout",
     "output_type": "stream",
     "text": [
      "4.91 ms ± 75.2 µs per loop (mean ± std. dev. of 7 runs, 100 loops each)\n"
     ]
    }
   ],
   "source": [
    "%%timeit\n",
    "data = [beta_fast(2, 2) for _ in range(10000)]"
   ]
  },
  {
   "cell_type": "code",
   "execution_count": 40,
   "metadata": {},
   "outputs": [],
   "source": [
    "data = [beta_fast(.5, .9) for _ in range(100000)]"
   ]
  },
  {
   "cell_type": "code",
   "execution_count": 41,
   "metadata": {},
   "outputs": [
    {
     "data": {
      "text/plain": [
       "<matplotlib.axes._subplots.AxesSubplot at 0x127fa8a20>"
      ]
     },
     "execution_count": 41,
     "metadata": {},
     "output_type": "execute_result"
    },
    {
     "data": {
      "image/png": "[encoded data removed]",
      "text/plain": [
       "<Figure size 432x288 with 1 Axes>"
      ]
     },
     "metadata": {
      "needs_background": "light"
     },
     "output_type": "display_data"
    }
   ],
   "source": [
    "sns.distplot(np.array(data), bins=300)"
   ]
  },
  {
   "cell_type": "code",
   "execution_count": 149,
   "metadata": {},
   "outputs": [],
   "source": [
    "def randint(low, high=None, seed=None):\n",
    "    if high is None:\n",
    "        high = low\n",
    "        low = 0\n",
    "    n = int(high - low + 1)\n",
    "    if not hasattr(rand, 'x'):\n",
    "        rand.x = int(time.clock()) if seed is None else seed\n",
    "        rand.a = 15_485_863\n",
    "        rand.c = 373_587_883\n",
    "        rand.m = 573_268_139\n",
    "    rand.x = ((rand.a * rand.x + rand.c) % rand.m)\n",
    "    out = rand.x % n\n",
    "    remainder = rand.m % n\n",
    "    while rand.x >= rand.m - remainder:\n",
    "        print(\"greater!\")\n",
    "        rand.x = ((rand.a * rand.x + rand.c) % rand.m)\n",
    "        out = rand.x % n\n",
    "    return low + out"
   ]
  },
  {
   "cell_type": "code",
   "execution_count": 162,
   "metadata": {},
   "outputs": [],
   "source": [
    "%%cython\n",
    "from libc.time cimport clock\n",
    "cimport cython\n",
    "\n",
    "cdef:\n",
    "    double x_n = 0.0;\n",
    "    double a = 15485863;\n",
    "    double c = 373587883;\n",
    "    double m = 573268139;\n",
    "\n",
    "cpdef int randint_fast(int low, high=None, double seed=0.0):\n",
    "    global x_n, a, b, c;\n",
    "    cdef:\n",
    "        int out, n;\n",
    "    if high is None:\n",
    "        high = low\n",
    "        low = 0\n",
    "    n = high - low + 1\n",
    "    if x_n == 0.0 and seed == 0.0:\n",
    "        x_n = <double>clock();\n",
    "    x_n = (a * x_n + c) % m;\n",
    "    return low + <int>x_n % n"
   ]
  },
  {
   "cell_type": "code",
   "execution_count": 176,
   "metadata": {},
   "outputs": [],
   "source": [
    "data = [randint(20, 50) for _ in range(1000000)]"
   ]
  },
  {
   "cell_type": "code",
   "execution_count": 174,
   "metadata": {},
   "outputs": [],
   "source": [
    "data = [randint_fast(20, 50) for _ in range(10000000)]"
   ]
  },
  {
   "cell_type": "code",
   "execution_count": 177,
   "metadata": {},
   "outputs": [
    {
     "data": {
      "text/plain": [
       "<matplotlib.axes._subplots.AxesSubplot at 0x10e425e10>"
      ]
     },
     "execution_count": 177,
     "metadata": {},
     "output_type": "execute_result"
    },
    {
     "data": {
      "image/png": "[encoded data removed]",
      "text/plain": [
       "<Figure size 432x288 with 1 Axes>"
      ]
     },
     "metadata": {
      "needs_background": "light"
     },
     "output_type": "display_data"
    }
   ],
   "source": [
    "sns.countplot(np.array(data))"
   ]
  },
  {
   "cell_type": "code",
   "execution_count": 178,
   "metadata": {},
   "outputs": [
    {
     "name": "stdout",
     "output_type": "stream",
     "text": [
      "12 ms ± 190 µs per loop (mean ± std. dev. of 7 runs, 100 loops each)\n"
     ]
    }
   ],
   "source": [
    "%%timeit\n",
    "data = [randint(20, 50) for _ in range(10000)]"
   ]
  },
  {
   "cell_type": "code",
   "execution_count": 179,
   "metadata": {},
   "outputs": [
    {
     "name": "stdout",
     "output_type": "stream",
     "text": [
      "1.76 ms ± 29.6 µs per loop (mean ± std. dev. of 7 runs, 1000 loops each)\n"
     ]
    }
   ],
   "source": [
    "%%timeit\n",
    "data = [randint_fast(20, 50) for _ in range(10000)]"
   ]
  }
 ],
 "metadata": {
  "kernelspec": {
   "display_name": "Python 3",
   "language": "python",
   "name": "python3"
  },
  "language_info": {
   "codemirror_mode": {
    "name": "ipython",
    "version": 3
   },
   "file_extension": ".py",
   "mimetype": "text/x-python",
   "name": "python",
   "nbconvert_exporter": "python",
   "pygments_lexer": "ipython3",
   "version": "3.6.2"
  }
 },
 "nbformat": 4,
 "nbformat_minor": 2
}
